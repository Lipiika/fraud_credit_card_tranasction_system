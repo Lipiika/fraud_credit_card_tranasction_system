{
  "nbformat": 4,
  "nbformat_minor": 0,
  "metadata": {
    "colab": {
      "provenance": []
    },
    "kernelspec": {
      "name": "python3",
      "display_name": "Python 3"
    },
    "language_info": {
      "name": "python"
    }
  },
  "cells": [
    {
      "cell_type": "code",
      "execution_count": 1,
      "metadata": {
        "colab": {
          "base_uri": "https://localhost:8080/"
        },
        "id": "Q8fIqHBg8KLT",
        "outputId": "6b7c1200-9ed1-4805-9a54-9d8e19e4387d"
      },
      "outputs": [
        {
          "output_type": "stream",
          "name": "stdout",
          "text": [
            "Requirement already satisfied: imbalanced-learn in /usr/local/lib/python3.11/dist-packages (0.13.0)\n",
            "Requirement already satisfied: tensorflow in /usr/local/lib/python3.11/dist-packages (2.18.0)\n",
            "Requirement already satisfied: numpy<3,>=1.24.3 in /usr/local/lib/python3.11/dist-packages (from imbalanced-learn) (2.0.2)\n",
            "Requirement already satisfied: scipy<2,>=1.10.1 in /usr/local/lib/python3.11/dist-packages (from imbalanced-learn) (1.15.3)\n",
            "Requirement already satisfied: scikit-learn<2,>=1.3.2 in /usr/local/lib/python3.11/dist-packages (from imbalanced-learn) (1.6.1)\n",
            "Requirement already satisfied: sklearn-compat<1,>=0.1 in /usr/local/lib/python3.11/dist-packages (from imbalanced-learn) (0.1.3)\n",
            "Requirement already satisfied: joblib<2,>=1.1.1 in /usr/local/lib/python3.11/dist-packages (from imbalanced-learn) (1.5.1)\n",
            "Requirement already satisfied: threadpoolctl<4,>=2.0.0 in /usr/local/lib/python3.11/dist-packages (from imbalanced-learn) (3.6.0)\n",
            "Requirement already satisfied: absl-py>=1.0.0 in /usr/local/lib/python3.11/dist-packages (from tensorflow) (1.4.0)\n",
            "Requirement already satisfied: astunparse>=1.6.0 in /usr/local/lib/python3.11/dist-packages (from tensorflow) (1.6.3)\n",
            "Requirement already satisfied: flatbuffers>=24.3.25 in /usr/local/lib/python3.11/dist-packages (from tensorflow) (25.2.10)\n",
            "Requirement already satisfied: gast!=0.5.0,!=0.5.1,!=0.5.2,>=0.2.1 in /usr/local/lib/python3.11/dist-packages (from tensorflow) (0.6.0)\n",
            "Requirement already satisfied: google-pasta>=0.1.1 in /usr/local/lib/python3.11/dist-packages (from tensorflow) (0.2.0)\n",
            "Requirement already satisfied: libclang>=13.0.0 in /usr/local/lib/python3.11/dist-packages (from tensorflow) (18.1.1)\n",
            "Requirement already satisfied: opt-einsum>=2.3.2 in /usr/local/lib/python3.11/dist-packages (from tensorflow) (3.4.0)\n",
            "Requirement already satisfied: packaging in /usr/local/lib/python3.11/dist-packages (from tensorflow) (24.2)\n",
            "Requirement already satisfied: protobuf!=4.21.0,!=4.21.1,!=4.21.2,!=4.21.3,!=4.21.4,!=4.21.5,<6.0.0dev,>=3.20.3 in /usr/local/lib/python3.11/dist-packages (from tensorflow) (5.29.5)\n",
            "Requirement already satisfied: requests<3,>=2.21.0 in /usr/local/lib/python3.11/dist-packages (from tensorflow) (2.32.3)\n",
            "Requirement already satisfied: setuptools in /usr/local/lib/python3.11/dist-packages (from tensorflow) (75.2.0)\n",
            "Requirement already satisfied: six>=1.12.0 in /usr/local/lib/python3.11/dist-packages (from tensorflow) (1.17.0)\n",
            "Requirement already satisfied: termcolor>=1.1.0 in /usr/local/lib/python3.11/dist-packages (from tensorflow) (3.1.0)\n",
            "Requirement already satisfied: typing-extensions>=3.6.6 in /usr/local/lib/python3.11/dist-packages (from tensorflow) (4.14.0)\n",
            "Requirement already satisfied: wrapt>=1.11.0 in /usr/local/lib/python3.11/dist-packages (from tensorflow) (1.17.2)\n",
            "Requirement already satisfied: grpcio<2.0,>=1.24.3 in /usr/local/lib/python3.11/dist-packages (from tensorflow) (1.73.0)\n",
            "Requirement already satisfied: tensorboard<2.19,>=2.18 in /usr/local/lib/python3.11/dist-packages (from tensorflow) (2.18.0)\n",
            "Requirement already satisfied: keras>=3.5.0 in /usr/local/lib/python3.11/dist-packages (from tensorflow) (3.8.0)\n",
            "Requirement already satisfied: h5py>=3.11.0 in /usr/local/lib/python3.11/dist-packages (from tensorflow) (3.14.0)\n",
            "Requirement already satisfied: ml-dtypes<0.5.0,>=0.4.0 in /usr/local/lib/python3.11/dist-packages (from tensorflow) (0.4.1)\n",
            "Requirement already satisfied: tensorflow-io-gcs-filesystem>=0.23.1 in /usr/local/lib/python3.11/dist-packages (from tensorflow) (0.37.1)\n",
            "Requirement already satisfied: wheel<1.0,>=0.23.0 in /usr/local/lib/python3.11/dist-packages (from astunparse>=1.6.0->tensorflow) (0.45.1)\n",
            "Requirement already satisfied: rich in /usr/local/lib/python3.11/dist-packages (from keras>=3.5.0->tensorflow) (13.9.4)\n",
            "Requirement already satisfied: namex in /usr/local/lib/python3.11/dist-packages (from keras>=3.5.0->tensorflow) (0.1.0)\n",
            "Requirement already satisfied: optree in /usr/local/lib/python3.11/dist-packages (from keras>=3.5.0->tensorflow) (0.16.0)\n",
            "Requirement already satisfied: charset-normalizer<4,>=2 in /usr/local/lib/python3.11/dist-packages (from requests<3,>=2.21.0->tensorflow) (3.4.2)\n",
            "Requirement already satisfied: idna<4,>=2.5 in /usr/local/lib/python3.11/dist-packages (from requests<3,>=2.21.0->tensorflow) (3.10)\n",
            "Requirement already satisfied: urllib3<3,>=1.21.1 in /usr/local/lib/python3.11/dist-packages (from requests<3,>=2.21.0->tensorflow) (2.4.0)\n",
            "Requirement already satisfied: certifi>=2017.4.17 in /usr/local/lib/python3.11/dist-packages (from requests<3,>=2.21.0->tensorflow) (2025.6.15)\n",
            "Requirement already satisfied: markdown>=2.6.8 in /usr/local/lib/python3.11/dist-packages (from tensorboard<2.19,>=2.18->tensorflow) (3.8)\n",
            "Requirement already satisfied: tensorboard-data-server<0.8.0,>=0.7.0 in /usr/local/lib/python3.11/dist-packages (from tensorboard<2.19,>=2.18->tensorflow) (0.7.2)\n",
            "Requirement already satisfied: werkzeug>=1.0.1 in /usr/local/lib/python3.11/dist-packages (from tensorboard<2.19,>=2.18->tensorflow) (3.1.3)\n",
            "Requirement already satisfied: MarkupSafe>=2.1.1 in /usr/local/lib/python3.11/dist-packages (from werkzeug>=1.0.1->tensorboard<2.19,>=2.18->tensorflow) (3.0.2)\n",
            "Requirement already satisfied: markdown-it-py>=2.2.0 in /usr/local/lib/python3.11/dist-packages (from rich->keras>=3.5.0->tensorflow) (3.0.0)\n",
            "Requirement already satisfied: pygments<3.0.0,>=2.13.0 in /usr/local/lib/python3.11/dist-packages (from rich->keras>=3.5.0->tensorflow) (2.19.1)\n",
            "Requirement already satisfied: mdurl~=0.1 in /usr/local/lib/python3.11/dist-packages (from markdown-it-py>=2.2.0->rich->keras>=3.5.0->tensorflow) (0.1.2)\n"
          ]
        }
      ],
      "source": [
        "!pip install imbalanced-learn tensorflow"
      ]
    },
    {
      "cell_type": "code",
      "source": [
        "# 1. Import libraries\n",
        "import pandas as pd\n",
        "import numpy as np\n",
        "import matplotlib.pyplot as plt\n",
        "from sklearn.model_selection import train_test_split\n",
        "from sklearn.preprocessing import StandardScaler\n",
        "from sklearn.metrics import classification_report, confusion_matrix, accuracy_score, precision_score, recall_score, f1_score\n",
        "\n",
        "from sklearn.linear_model import LogisticRegression\n",
        "from sklearn.neighbors import KNeighborsClassifier\n",
        "from sklearn.svm import SVC\n",
        "from sklearn.tree import DecisionTreeClassifier\n",
        "from sklearn.ensemble import RandomForestClassifier\n",
        "\n",
        "from imblearn.over_sampling import SMOTE\n",
        "from tensorflow.keras.models import Sequential\n",
        "from tensorflow.keras.layers import Dense, Dropout\n",
        "from tensorflow.keras.callbacks import EarlyStopping"
      ],
      "metadata": {
        "id": "VVAjZ61U82TZ"
      },
      "execution_count": 2,
      "outputs": []
    },
    {
      "cell_type": "code",
      "source": [
        "# 2. Load and preprocess the data\n",
        "df = pd.read_csv(\"/content/creditcard.csv\")"
      ],
      "metadata": {
        "id": "VbQqRZTE9BMx"
      },
      "execution_count": 4,
      "outputs": []
    },
    {
      "cell_type": "code",
      "source": [
        "# Handle missing values in the target variable 'Class'\n",
        "# Dropping rows where 'Class' is NaN\n",
        "df.dropna(subset=['Class'], inplace=True)"
      ],
      "metadata": {
        "id": "CByfhnzF9K_A"
      },
      "execution_count": 10,
      "outputs": []
    },
    {
      "cell_type": "code",
      "source": [
        "X = df.drop(\"Class\", axis=1)\n",
        "y = df[\"Class\"]"
      ],
      "metadata": {
        "id": "D2SoiVmU9K7a"
      },
      "execution_count": 11,
      "outputs": []
    },
    {
      "cell_type": "code",
      "source": [
        "scaler = StandardScaler()\n",
        "X_scaled = scaler.fit_transform(X)"
      ],
      "metadata": {
        "id": "bRESAhEg9K46"
      },
      "execution_count": 12,
      "outputs": []
    },
    {
      "cell_type": "code",
      "source": [
        "X_train, X_test, y_train, y_test = train_test_split(\n",
        "    X_scaled, y, test_size=0.2, stratify=y, random_state=42\n",
        ")"
      ],
      "metadata": {
        "id": "GENhnTD09K22"
      },
      "execution_count": 13,
      "outputs": []
    },
    {
      "cell_type": "code",
      "source": [
        "# 3. Apply SMOTE to balance the training set\n",
        "smote = SMOTE(random_state=42)\n",
        "X_train, y_train = smote.fit_resample(X_train, y_train)"
      ],
      "metadata": {
        "id": "nUFsotxC_8ZR"
      },
      "execution_count": 14,
      "outputs": []
    },
    {
      "cell_type": "code",
      "source": [
        "# 4. Train machine learning models\n",
        "models = {\n",
        "    \"Logistic Regression\": LogisticRegression(max_iter=1000),\n",
        "    \"KNN\": KNeighborsClassifier(n_neighbors=5),\n",
        "    \"SVM\": SVC(kernel='rbf', C=1.0, gamma='scale'),\n",
        "    \"Decision Tree\": DecisionTreeClassifier(random_state=42),\n",
        "    \"Random Forest\": RandomForestClassifier(n_estimators=100, random_state=42)\n",
        "}"
      ],
      "metadata": {
        "id": "Kh3wAard_8bU"
      },
      "execution_count": 16,
      "outputs": []
    },
    {
      "cell_type": "code",
      "source": [
        "predictions = {}\n",
        "for name, model in models.items():\n",
        "    model.fit(X_train, y_train)\n",
        "    y_pred = model.predict(X_test)\n",
        "    predictions[name] = y_pred"
      ],
      "metadata": {
        "id": "9bI3asSq_8dQ"
      },
      "execution_count": 17,
      "outputs": []
    },
    {
      "cell_type": "code",
      "source": [
        "# 5. Neural Network model\n",
        "nn_model = Sequential()\n",
        "nn_model.add(Dense(32, activation='relu', input_shape=(X_train.shape[1],)))\n",
        "nn_model.add(Dropout(0.3))\n",
        "nn_model.add(Dense(16, activation='relu'))\n",
        "nn_model.add(Dropout(0.3))\n",
        "nn_model.add(Dense(1, activation='sigmoid'))"
      ],
      "metadata": {
        "colab": {
          "base_uri": "https://localhost:8080/"
        },
        "id": "6vRufFcQA1ck",
        "outputId": "0dbf1c7c-9030-471e-e72a-02148832c477"
      },
      "execution_count": 18,
      "outputs": [
        {
          "output_type": "stream",
          "name": "stderr",
          "text": [
            "/usr/local/lib/python3.11/dist-packages/keras/src/layers/core/dense.py:87: UserWarning: Do not pass an `input_shape`/`input_dim` argument to a layer. When using Sequential models, prefer using an `Input(shape)` object as the first layer in the model instead.\n",
            "  super().__init__(activity_regularizer=activity_regularizer, **kwargs)\n"
          ]
        }
      ]
    },
    {
      "cell_type": "code",
      "source": [
        "nn_model.compile(optimizer='adam', loss='binary_crossentropy', metrics=['accuracy'])"
      ],
      "metadata": {
        "id": "WKV7MOZsA1eo"
      },
      "execution_count": 19,
      "outputs": []
    },
    {
      "cell_type": "code",
      "source": [
        "early_stop = EarlyStopping(monitor='val_loss', patience=3, restore_best_weights=True)"
      ],
      "metadata": {
        "id": "a060WrRWA1gs"
      },
      "execution_count": 20,
      "outputs": []
    },
    {
      "cell_type": "code",
      "source": [
        "nn_model.fit(X_train, y_train, validation_split=0.2, epochs=20, batch_size=2048, callbacks=[early_stop], verbose=1)"
      ],
      "metadata": {
        "colab": {
          "base_uri": "https://localhost:8080/"
        },
        "id": "ACpI-CoPA1ji",
        "outputId": "0757b90d-87a0-49b5-bc0e-e43c56c08ccc"
      },
      "execution_count": 21,
      "outputs": [
        {
          "output_type": "stream",
          "name": "stdout",
          "text": [
            "Epoch 1/20\n",
            "\u001b[1m20/20\u001b[0m \u001b[32m━━━━━━━━━━━━━━━━━━━━\u001b[0m\u001b[37m\u001b[0m \u001b[1m2s\u001b[0m 20ms/step - accuracy: 0.4610 - loss: 1.0336 - val_accuracy: 0.9043 - val_loss: 0.1960\n",
            "Epoch 2/20\n",
            "\u001b[1m20/20\u001b[0m \u001b[32m━━━━━━━━━━━━━━━━━━━━\u001b[0m\u001b[37m\u001b[0m \u001b[1m0s\u001b[0m 7ms/step - accuracy: 0.7143 - loss: 0.5489 - val_accuracy: 0.8950 - val_loss: 0.1645\n",
            "Epoch 3/20\n",
            "\u001b[1m20/20\u001b[0m \u001b[32m━━━━━━━━━━━━━━━━━━━━\u001b[0m\u001b[37m\u001b[0m \u001b[1m0s\u001b[0m 7ms/step - accuracy: 0.8624 - loss: 0.4184 - val_accuracy: 0.8953 - val_loss: 0.1618\n",
            "Epoch 4/20\n",
            "\u001b[1m20/20\u001b[0m \u001b[32m━━━━━━━━━━━━━━━━━━━━\u001b[0m\u001b[37m\u001b[0m \u001b[1m0s\u001b[0m 9ms/step - accuracy: 0.9174 - loss: 0.3247 - val_accuracy: 0.9104 - val_loss: 0.1516\n",
            "Epoch 5/20\n",
            "\u001b[1m20/20\u001b[0m \u001b[32m━━━━━━━━━━━━━━━━━━━━\u001b[0m\u001b[37m\u001b[0m \u001b[1m0s\u001b[0m 9ms/step - accuracy: 0.9368 - loss: 0.2488 - val_accuracy: 0.9150 - val_loss: 0.1376\n",
            "Epoch 6/20\n",
            "\u001b[1m20/20\u001b[0m \u001b[32m━━━━━━━━━━━━━━━━━━━━\u001b[0m\u001b[37m\u001b[0m \u001b[1m0s\u001b[0m 7ms/step - accuracy: 0.9482 - loss: 0.1925 - val_accuracy: 0.9172 - val_loss: 0.1189\n",
            "Epoch 7/20\n",
            "\u001b[1m20/20\u001b[0m \u001b[32m━━━━━━━━━━━━━━━━━━━━\u001b[0m\u001b[37m\u001b[0m \u001b[1m0s\u001b[0m 7ms/step - accuracy: 0.9556 - loss: 0.1530 - val_accuracy: 0.9427 - val_loss: 0.1001\n",
            "Epoch 8/20\n",
            "\u001b[1m20/20\u001b[0m \u001b[32m━━━━━━━━━━━━━━━━━━━━\u001b[0m\u001b[37m\u001b[0m \u001b[1m0s\u001b[0m 7ms/step - accuracy: 0.9643 - loss: 0.1253 - val_accuracy: 0.9559 - val_loss: 0.0831\n",
            "Epoch 9/20\n",
            "\u001b[1m20/20\u001b[0m \u001b[32m━━━━━━━━━━━━━━━━━━━━\u001b[0m\u001b[37m\u001b[0m \u001b[1m0s\u001b[0m 9ms/step - accuracy: 0.9711 - loss: 0.1013 - val_accuracy: 0.9703 - val_loss: 0.0684\n",
            "Epoch 10/20\n",
            "\u001b[1m20/20\u001b[0m \u001b[32m━━━━━━━━━━━━━━━━━━━━\u001b[0m\u001b[37m\u001b[0m \u001b[1m0s\u001b[0m 8ms/step - accuracy: 0.9751 - loss: 0.0847 - val_accuracy: 0.9766 - val_loss: 0.0570\n",
            "Epoch 11/20\n",
            "\u001b[1m20/20\u001b[0m \u001b[32m━━━━━━━━━━━━━━━━━━━━\u001b[0m\u001b[37m\u001b[0m \u001b[1m0s\u001b[0m 7ms/step - accuracy: 0.9794 - loss: 0.0711 - val_accuracy: 0.9844 - val_loss: 0.0476\n",
            "Epoch 12/20\n",
            "\u001b[1m20/20\u001b[0m \u001b[32m━━━━━━━━━━━━━━━━━━━━\u001b[0m\u001b[37m\u001b[0m \u001b[1m0s\u001b[0m 12ms/step - accuracy: 0.9829 - loss: 0.0623 - val_accuracy: 0.9874 - val_loss: 0.0401\n",
            "Epoch 13/20\n",
            "\u001b[1m20/20\u001b[0m \u001b[32m━━━━━━━━━━━━━━━━━━━━\u001b[0m\u001b[37m\u001b[0m \u001b[1m0s\u001b[0m 11ms/step - accuracy: 0.9854 - loss: 0.0574 - val_accuracy: 0.9897 - val_loss: 0.0351\n",
            "Epoch 14/20\n",
            "\u001b[1m20/20\u001b[0m \u001b[32m━━━━━━━━━━━━━━━━━━━━\u001b[0m\u001b[37m\u001b[0m \u001b[1m0s\u001b[0m 13ms/step - accuracy: 0.9874 - loss: 0.0503 - val_accuracy: 0.9910 - val_loss: 0.0311\n",
            "Epoch 15/20\n",
            "\u001b[1m20/20\u001b[0m \u001b[32m━━━━━━━━━━━━━━━━━━━━\u001b[0m\u001b[37m\u001b[0m \u001b[1m0s\u001b[0m 13ms/step - accuracy: 0.9888 - loss: 0.0490 - val_accuracy: 0.9926 - val_loss: 0.0268\n",
            "Epoch 16/20\n",
            "\u001b[1m20/20\u001b[0m \u001b[32m━━━━━━━━━━━━━━━━━━━━\u001b[0m\u001b[37m\u001b[0m \u001b[1m0s\u001b[0m 12ms/step - accuracy: 0.9898 - loss: 0.0430 - val_accuracy: 0.9948 - val_loss: 0.0239\n",
            "Epoch 17/20\n",
            "\u001b[1m20/20\u001b[0m \u001b[32m━━━━━━━━━━━━━━━━━━━━\u001b[0m\u001b[37m\u001b[0m \u001b[1m0s\u001b[0m 13ms/step - accuracy: 0.9898 - loss: 0.0477 - val_accuracy: 0.9956 - val_loss: 0.0221\n",
            "Epoch 18/20\n",
            "\u001b[1m20/20\u001b[0m \u001b[32m━━━━━━━━━━━━━━━━━━━━\u001b[0m\u001b[37m\u001b[0m \u001b[1m0s\u001b[0m 12ms/step - accuracy: 0.9927 - loss: 0.0363 - val_accuracy: 0.9969 - val_loss: 0.0199\n",
            "Epoch 19/20\n",
            "\u001b[1m20/20\u001b[0m \u001b[32m━━━━━━━━━━━━━━━━━━━━\u001b[0m\u001b[37m\u001b[0m \u001b[1m0s\u001b[0m 13ms/step - accuracy: 0.9925 - loss: 0.0394 - val_accuracy: 0.9978 - val_loss: 0.0184\n",
            "Epoch 20/20\n",
            "\u001b[1m20/20\u001b[0m \u001b[32m━━━━━━━━━━━━━━━━━━━━\u001b[0m\u001b[37m\u001b[0m \u001b[1m0s\u001b[0m 12ms/step - accuracy: 0.9928 - loss: 0.0393 - val_accuracy: 0.9983 - val_loss: 0.0172\n"
          ]
        },
        {
          "output_type": "execute_result",
          "data": {
            "text/plain": [
              "<keras.src.callbacks.history.History at 0x7f0c139e6d10>"
            ]
          },
          "metadata": {},
          "execution_count": 21
        }
      ]
    },
    {
      "cell_type": "code",
      "source": [
        "y_pred_nn = nn_model.predict(X_test)\n",
        "y_pred_nn = (y_pred_nn > 0.5).astype(\"int\").flatten()"
      ],
      "metadata": {
        "colab": {
          "base_uri": "https://localhost:8080/"
        },
        "id": "hBoEUuv-BBf5",
        "outputId": "8b684669-dcc7-4a02-d0bc-245a60c6fdba"
      },
      "execution_count": 22,
      "outputs": [
        {
          "output_type": "stream",
          "name": "stdout",
          "text": [
            "\u001b[1m199/199\u001b[0m \u001b[32m━━━━━━━━━━━━━━━━━━━━\u001b[0m\u001b[37m\u001b[0m \u001b[1m0s\u001b[0m 1ms/step\n"
          ]
        }
      ]
    },
    {
      "cell_type": "code",
      "source": [
        "predictions[\"Neural Network\"] = y_pred_nn"
      ],
      "metadata": {
        "id": "tVpZa76PBBh8"
      },
      "execution_count": 23,
      "outputs": []
    },
    {
      "cell_type": "code",
      "source": [
        "# 6. Evaluate all models\n",
        "metrics = {\n",
        "    \"Accuracy\": [],\n",
        "    \"Precision\": [],\n",
        "    \"Recall\": [],\n",
        "    \"F1 Score\": []\n",
        "}"
      ],
      "metadata": {
        "id": "BHgn_nuaBBlZ"
      },
      "execution_count": 24,
      "outputs": []
    },
    {
      "cell_type": "code",
      "source": [
        "model_names = list(predictions.keys())\n",
        "\n",
        "for name in model_names:\n",
        "    y_pred = predictions[name]\n",
        "    print(f\"\\n=== {name} ===\")\n",
        "    print(confusion_matrix(y_test, y_pred))\n",
        "    print(classification_report(y_test, y_pred))\n",
        "\n",
        "    metrics[\"Accuracy\"].append(accuracy_score(y_test, y_pred))\n",
        "    metrics[\"Precision\"].append(precision_score(y_test, y_pred))\n",
        "    metrics[\"Recall\"].append(recall_score(y_test, y_pred))\n",
        "    metrics[\"F1 Score\"].append(f1_score(y_test, y_pred))"
      ],
      "metadata": {
        "colab": {
          "base_uri": "https://localhost:8080/"
        },
        "id": "72tnb29q_8fa",
        "outputId": "3a7847de-f128-4b71-fb36-cf8cc4ced4b4"
      },
      "execution_count": 25,
      "outputs": [
        {
          "output_type": "stream",
          "name": "stdout",
          "text": [
            "\n",
            "=== Logistic Regression ===\n",
            "[[6233  103]\n",
            " [   1   19]]\n",
            "              precision    recall  f1-score   support\n",
            "\n",
            "         0.0       1.00      0.98      0.99      6336\n",
            "         1.0       0.16      0.95      0.27        20\n",
            "\n",
            "    accuracy                           0.98      6356\n",
            "   macro avg       0.58      0.97      0.63      6356\n",
            "weighted avg       1.00      0.98      0.99      6356\n",
            "\n",
            "\n",
            "=== KNN ===\n",
            "[[6323   13]\n",
            " [   2   18]]\n",
            "              precision    recall  f1-score   support\n",
            "\n",
            "         0.0       1.00      1.00      1.00      6336\n",
            "         1.0       0.58      0.90      0.71        20\n",
            "\n",
            "    accuracy                           1.00      6356\n",
            "   macro avg       0.79      0.95      0.85      6356\n",
            "weighted avg       1.00      1.00      1.00      6356\n",
            "\n",
            "\n",
            "=== SVM ===\n",
            "[[6311   25]\n",
            " [   1   19]]\n",
            "              precision    recall  f1-score   support\n",
            "\n",
            "         0.0       1.00      1.00      1.00      6336\n",
            "         1.0       0.43      0.95      0.59        20\n",
            "\n",
            "    accuracy                           1.00      6356\n",
            "   macro avg       0.72      0.97      0.80      6356\n",
            "weighted avg       1.00      1.00      1.00      6356\n",
            "\n",
            "\n",
            "=== Decision Tree ===\n",
            "[[6331    5]\n",
            " [   3   17]]\n",
            "              precision    recall  f1-score   support\n",
            "\n",
            "         0.0       1.00      1.00      1.00      6336\n",
            "         1.0       0.77      0.85      0.81        20\n",
            "\n",
            "    accuracy                           1.00      6356\n",
            "   macro avg       0.89      0.92      0.90      6356\n",
            "weighted avg       1.00      1.00      1.00      6356\n",
            "\n",
            "\n",
            "=== Random Forest ===\n",
            "[[6334    2]\n",
            " [   3   17]]\n",
            "              precision    recall  f1-score   support\n",
            "\n",
            "         0.0       1.00      1.00      1.00      6336\n",
            "         1.0       0.89      0.85      0.87        20\n",
            "\n",
            "    accuracy                           1.00      6356\n",
            "   macro avg       0.95      0.92      0.94      6356\n",
            "weighted avg       1.00      1.00      1.00      6356\n",
            "\n",
            "\n",
            "=== Neural Network ===\n",
            "[[6325   11]\n",
            " [   2   18]]\n",
            "              precision    recall  f1-score   support\n",
            "\n",
            "         0.0       1.00      1.00      1.00      6336\n",
            "         1.0       0.62      0.90      0.73        20\n",
            "\n",
            "    accuracy                           1.00      6356\n",
            "   macro avg       0.81      0.95      0.87      6356\n",
            "weighted avg       1.00      1.00      1.00      6356\n",
            "\n"
          ]
        }
      ]
    },
    {
      "cell_type": "code",
      "source": [
        "# 7. Plot all performance metrics\n",
        "x = range(len(model_names))\n",
        "bar_width = 0.2\n",
        "\n",
        "plt.figure(figsize=(12, 6))\n",
        "plt.bar([i - 1.5 * bar_width for i in x], metrics[\"Accuracy\"], width=bar_width, label='Accuracy')\n",
        "plt.bar([i - 0.5 * bar_width for i in x], metrics[\"Precision\"], width=bar_width, label='Precision')\n",
        "plt.bar([i + 0.5 * bar_width for i in x], metrics[\"Recall\"], width=bar_width, label='Recall')\n",
        "plt.bar([i + 1.5 * bar_width for i in x], metrics[\"F1 Score\"], width=bar_width, label='F1 Score')\n",
        "plt.xlabel(\"Machine Learning Algorithms\")\n",
        "plt.ylabel(\"Score\")\n",
        "plt.title(\"Model Comparison (with SMOTE + Neural Network)\")\n",
        "plt.xticks(x, model_names, rotation=30)\n",
        "plt.ylim([0.0, 1.05])\n",
        "plt.legend(loc='upper right')\n",
        "plt.tight_layout()\n",
        "plt.show()"
      ],
      "metadata": {
        "colab": {
          "base_uri": "https://localhost:8080/",
          "height": 627
        },
        "id": "VgoqIcYd_8i5",
        "outputId": "b02203b4-9392-429a-fcc7-4c3b5168e9ea"
      },
      "execution_count": 27,
      "outputs": [
        {
          "output_type": "display_data",
          "data": {
            "text/plain": [
              "<Figure size 1200x600 with 1 Axes>"
            ],
            "image/png": "[encoded data removed]"
          },
          "metadata": {}
        }
      ]
    },
    {
      "cell_type": "code",
      "source": [
        "# Step 1: Define the feature names (excluding 'Class')\n",
        "feature_names = list(df.drop(\"Class\", axis=1).columns)"
      ],
      "metadata": {
        "id": "NpkAjtlUDJbO"
      },
      "execution_count": 28,
      "outputs": []
    },
    {
      "cell_type": "code",
      "source": [
        "# Step 2: Collect user input\n",
        "#print(\"🔍 Enter values for the transaction below:\\n\")\n",
        "#user_input = []\n",
        "\n",
        "#for feature in feature_names:\n",
        " #   while True:\n",
        "  #      try:\n",
        "   #         val = float(input(f\"{feature}: \"))\n",
        "    #        user_input.append(val)\n",
        "     #       break\n",
        "      #  except ValueError:\n",
        "       #     print(\"Please enter a valid number.\")"
      ],
      "metadata": {
        "id": "wUWfT-LEDJed"
      },
      "execution_count": 51,
      "outputs": []
    },
    {
      "cell_type": "code",
      "source": [
        "user_input = [\n",
        "    406.0,                          # Time\n",
        "    -2.3122265423263,              # V1\n",
        "    1.95199201064158,              # V2\n",
        "    -1.60985073229752,             # V3\n",
        "    3.9979055875468,               # V4\n",
        "    -0.522187864667764,            # V5\n",
        "    -1.42654531920595,             # V6\n",
        "    -2.53738730624579,             # V7\n",
        "    1.39165724833352,              # V8\n",
        "    -2.7700892774234,              # V9\n",
        "    -2.77227214400346,             # V10\n",
        "    3.20203320709635,              # V11\n",
        "    -2.89990738849473,             # V12\n",
        "    -0.595221881324605,            # V13\n",
        "    -4.28925378244236,             # V14\n",
        "    0.389724115920655,             # V15\n",
        "    -1.14074717980657,             # V16\n",
        "    -2.83005567450447,             # V17\n",
        "    -0.018306777944153,            # V18\n",
        "    -2.93719198930296,             # V19\n",
        "    -1.71587139363153,             # V20\n",
        "    -2.62600366640281,             # V21\n",
        "    1.48864011089835,              # V22\n",
        "    -2.46301440427903,             # V23\n",
        "    -0.61198733994012,             # V24\n",
        "    -3.04154165824943,             # V25\n",
        "    -0.405202235043638,            # V26\n",
        "    1.1429305862513,               # V27\n",
        "    0.422418146001476,             # V28\n",
        "    0.00                           #amount, dynamically input\n",
        "]"
      ],
      "metadata": {
        "id": "zSxgdsdBFjU8"
      },
      "execution_count": 46,
      "outputs": []
    },
    {
      "cell_type": "code",
      "source": [
        "# Step 3: Convert to DataFrame\n",
        "user_df = pd.DataFrame([user_input], columns=feature_names)"
      ],
      "metadata": {
        "id": "cZzjkoMqDJh2"
      },
      "execution_count": 47,
      "outputs": []
    },
    {
      "cell_type": "code",
      "source": [
        "# Step 4: Scale the input (just like training data)\n",
        "user_scaled = scaler.transform(user_df)"
      ],
      "metadata": {
        "id": "5thOE6UKDKHk"
      },
      "execution_count": 48,
      "outputs": []
    },
    {
      "cell_type": "code",
      "source": [
        "# Step 5: Predict using the trained model (Random Forest used here)\n",
        "pred = models[\"Random Forest\"].predict(user_scaled)\n"
      ],
      "metadata": {
        "id": "xbtdzGnGE9KR"
      },
      "execution_count": 49,
      "outputs": []
    },
    {
      "cell_type": "code",
      "source": [
        "# Step 6: Show result\n",
        "print(\"\\n🎯 Prediction Result:\")\n",
        "if pred[0] == 1:\n",
        "    print(\"🚨 FRAUD DETECTED!\")\n",
        "else:\n",
        "    print(\"✅ Transaction is Legitimate.\")"
      ],
      "metadata": {
        "colab": {
          "base_uri": "https://localhost:8080/"
        },
        "id": "3Fy-KcKLE9Mj",
        "outputId": "72958c52-b508-479c-bc9a-f01c882a24ed"
      },
      "execution_count": 50,
      "outputs": [
        {
          "output_type": "stream",
          "name": "stdout",
          "text": [
            "\n",
            "🎯 Prediction Result:\n",
            "🚨 FRAUD DETECTED!\n"
          ]
        }
      ]
    },
    {
      "cell_type": "code",
      "source": [],
      "metadata": {
        "id": "tP0HBJsAE9QA"
      },
      "execution_count": null,
      "outputs": []
    },
    {
      "cell_type": "code",
      "source": [],
      "metadata": {
        "id": "gmCzHP4FDKK-"
      },
      "execution_count": null,
      "outputs": []
    },
    {
      "cell_type": "code",
      "source": [],
      "metadata": {
        "id": "3vXGtFfQ9K0y"
      },
      "execution_count": null,
      "outputs": []
    }
  ]
}